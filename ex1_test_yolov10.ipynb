{
 "cells": [
  {
   "cell_type": "code",
   "execution_count": 1,
   "metadata": {},
   "outputs": [
    {
     "name": "stderr",
     "output_type": "stream",
     "text": [
      "c:\\Users\\me123\\anaconda3\\envs\\yolov10\\lib\\site-packages\\tqdm\\auto.py:21: TqdmWarning: IProgress not found. Please update jupyter and ipywidgets. See https://ipywidgets.readthedocs.io/en/stable/user_install.html\n",
      "  from .autonotebook import tqdm as notebook_tqdm\n"
     ]
    }
   ],
   "source": [
    "import torch\n",
    "import cv2 as cv\n",
    "import numpy as np\n",
    "from ultralytics import YOLOv10"
   ]
  },
  {
   "cell_type": "code",
   "execution_count": 2,
   "metadata": {},
   "outputs": [
    {
     "name": "stdout",
     "output_type": "stream",
     "text": [
      "\n",
      "0: 480x640 1 bicycle, 1 truck, 1 dog, 208.0ms\n",
      "Speed: 5.9ms preprocess, 208.0ms inference, 12.3ms postprocess per image at shape (1, 3, 480, 640)\n"
     ]
    }
   ],
   "source": [
    "img = cv.imread('dog.jpg')\n",
    "model = YOLOv10('yolov10s.pt')\n",
    "results = model.predict(img)"
   ]
  },
  {
   "cell_type": "code",
   "execution_count": 3,
   "metadata": {},
   "outputs": [
    {
     "data": {
      "text/plain": [
       "-1"
      ]
     },
     "execution_count": 3,
     "metadata": {},
     "output_type": "execute_result"
    }
   ],
   "source": [
    "for result in results:\n",
    "    result = result.cpu()     # from gpu to cpu\n",
    "    result = result.numpy()   # from cpu to numpy data\n",
    "    xyxy = result.boxes.xyxy  # 左上和右下座標點\n",
    "    cls = result.boxes.cls    # 類別\n",
    "    box_conf = result.boxes.conf  # 信心指數\n",
    "    xyxy_list = xyxy.tolist() \n",
    "    cls_list = cls.tolist()\n",
    "    box_conf_list = box_conf.tolist()\n",
    "    for box, label, box_conf in zip(xyxy, cls, box_conf_list):\n",
    "        x1, y1, x2, y2 = box\n",
    "        x1, y1, x2, y2 = int(x1), int(y1), int(x2), int(y2)\n",
    "        item = label.item()\n",
    "        class_ind = int(item)\n",
    "        label = model.names[class_ind]\n",
    "\n",
    "        cv.rectangle(img, (x1, y1), (x2, y2), (0, 0, 255), 2)\n",
    "        cv.putText(img, f\"{label}: {box_conf:.2}\", (x1, y1 - 10), cv.FONT_HERSHEY_SIMPLEX, 1.5, (0, 0, 0), 20) \n",
    "        cv.putText(img, f\"{label}: {box_conf:.2}\", (x1, y1 - 10), cv.FONT_HERSHEY_SIMPLEX, 1.5, (0, 255, 255), 3) \n",
    "\n",
    "cv.imshow(\"result\", img)\n",
    "cv.waitKey()"
   ]
  }
 ],
 "metadata": {
  "kernelspec": {
   "display_name": "yolov10",
   "language": "python",
   "name": "python3"
  },
  "language_info": {
   "codemirror_mode": {
    "name": "ipython",
    "version": 3
   },
   "file_extension": ".py",
   "mimetype": "text/x-python",
   "name": "python",
   "nbconvert_exporter": "python",
   "pygments_lexer": "ipython3",
   "version": "3.9.19"
  }
 },
 "nbformat": 4,
 "nbformat_minor": 2
}
