{
 "cells": [
  {
   "cell_type": "code",
   "execution_count": 1,
   "metadata": {},
   "outputs": [
    {
     "name": "stdout",
     "output_type": "stream",
     "text": [
      "{'name': 'ryan', 'age': 48, 'height': 180, 'weight': 92}\n",
      "key:name, value:ryan\n",
      "key:age, value:48\n",
      "key:height, value:180\n",
      "key:weight, value:92\n"
     ]
    }
   ],
   "source": [
    "x={'name':'ryan', 'age':48, 'height':180, 'weight':92}\n",
    "print(x)\n",
    "for key in x.keys():\n",
    "    print(f'key:{key}, value:{x[key]}')"
   ]
  },
  {
   "cell_type": "markdown",
   "metadata": {},
   "source": [
    "key()方法\n",
    "檢查是否包含key，若是則修該對應值(value)"
   ]
  },
  {
   "cell_type": "code",
   "execution_count": 2,
   "metadata": {},
   "outputs": [
    {
     "name": "stdout",
     "output_type": "stream",
     "text": [
      "key:name, value:Peter\n",
      "key:age, value:48\n",
      "key:height, value:180\n",
      "key:weight, value:92\n"
     ]
    }
   ],
   "source": [
    "if 'name' in x.keys():\n",
    "    x['name'] = 'Peter'\n",
    "for key in x.keys():\n",
    "    print(f'key:{key}, value:{x[key]}')"
   ]
  },
  {
   "cell_type": "markdown",
   "metadata": {},
   "source": [
    "items()方法"
   ]
  },
  {
   "cell_type": "code",
   "execution_count": 3,
   "metadata": {},
   "outputs": [
    {
     "name": "stdout",
     "output_type": "stream",
     "text": [
      "('name', 'Peter')\n",
      "('age', 48)\n",
      "('height', 180)\n",
      "('weight', 92)\n"
     ]
    }
   ],
   "source": [
    "for item in x.items():\n",
    "    print(item)"
   ]
  },
  {
   "cell_type": "markdown",
   "metadata": {},
   "source": [
    "values()方法"
   ]
  },
  {
   "cell_type": "code",
   "execution_count": 4,
   "metadata": {},
   "outputs": [
    {
     "name": "stdout",
     "output_type": "stream",
     "text": [
      "Peter\n",
      "48\n",
      "180\n",
      "92\n"
     ]
    }
   ],
   "source": [
    "for value in x.values():\n",
    "    print(value)"
   ]
  },
  {
   "cell_type": "markdown",
   "metadata": {},
   "source": [
    "get('KEY', DEFAULT VALUE)方法"
   ]
  },
  {
   "cell_type": "code",
   "execution_count": 5,
   "metadata": {},
   "outputs": [
    {
     "name": "stdout",
     "output_type": "stream",
     "text": [
      "name: Peter\n",
      "False\n",
      "True\n"
     ]
    }
   ],
   "source": [
    "name = x.get('name', 'NA')\n",
    "print(f'name: {name}')\n",
    "ret = 'names' in x\n",
    "print(ret)\n",
    "ret = 'name' in x\n",
    "print(ret)"
   ]
  },
  {
   "cell_type": "markdown",
   "metadata": {},
   "source": [
    "統計字元出現次數(histogram)"
   ]
  },
  {
   "cell_type": "code",
   "execution_count": 6,
   "metadata": {},
   "outputs": [
    {
     "name": "stdout",
     "output_type": "stream",
     "text": [
      "('I', 1)\n",
      "('t', 6)\n",
      "(' ', 13)\n",
      "('w', 2)\n",
      "('a', 4)\n",
      "('s', 3)\n",
      "('b', 1)\n",
      "('r', 5)\n",
      "('i', 6)\n",
      "('g', 2)\n",
      "('h', 3)\n",
      "('c', 3)\n",
      "('o', 2)\n",
      "('l', 3)\n",
      "('d', 3)\n",
      "('y', 1)\n",
      "('n', 4)\n",
      "('A', 1)\n",
      "('p', 1)\n",
      "(',', 1)\n",
      "('e', 5)\n",
      "('k', 2)\n"
     ]
    }
   ],
   "source": [
    "message = 'It was a bright cold day in April, and the clocks were striking thirteen'\n",
    "count = {}\n",
    "for c in message:\n",
    "    count.setdefault(c, 0)\n",
    "    count[c] = count[c] + 1\n",
    "for item in count.items():\n",
    "    print(f'{item}')"
   ]
  },
  {
   "cell_type": "code",
   "execution_count": 7,
   "metadata": {},
   "outputs": [
    {
     "name": "stdout",
     "output_type": "stream",
     "text": [
      "{' ': 13,\n",
      " ',': 1,\n",
      " 'A': 1,\n",
      " 'I': 1,\n",
      " 'a': 4,\n",
      " 'b': 1,\n",
      " 'c': 3,\n",
      " 'd': 3,\n",
      " 'e': 5,\n",
      " 'g': 2,\n",
      " 'h': 3,\n",
      " 'i': 6,\n",
      " 'k': 2,\n",
      " 'l': 3,\n",
      " 'n': 4,\n",
      " 'o': 2,\n",
      " 'p': 1,\n",
      " 'r': 5,\n",
      " 's': 3,\n",
      " 't': 6,\n",
      " 'w': 2,\n",
      " 'y': 1}\n"
     ]
    }
   ],
   "source": [
    "import pprint\n",
    "pprint.pprint(count)"
   ]
  },
  {
   "cell_type": "code",
   "execution_count": 12,
   "metadata": {},
   "outputs": [
    {
     "name": "stdout",
     "output_type": "stream",
     "text": [
      "123 is numeric True\n",
      "123 is alphabet False\n"
     ]
    }
   ],
   "source": [
    "x = '123'\n",
    "ret = x.isnumeric()\n",
    "ret2 = x.isalpha()\n",
    "print(f'{x} is numeric {ret}')\n",
    "print(f'{x} is alphabet {ret2}')"
   ]
  },
  {
   "cell_type": "code",
   "execution_count": 15,
   "metadata": {},
   "outputs": [
    {
     "name": "stdout",
     "output_type": "stream",
     "text": [
      "12a is numeric False\n",
      "12a is alphabet False\n"
     ]
    }
   ],
   "source": [
    "x = '12a'\n",
    "ret = x.isnumeric()\n",
    "ret2 = x.isalpha()\n",
    "print(f'{x} is numeric {ret}')\n",
    "print(f'{x} is alphabet {ret2}')"
   ]
  },
  {
   "cell_type": "code",
   "execution_count": 16,
   "metadata": {},
   "outputs": [
    {
     "name": "stdout",
     "output_type": "stream",
     "text": [
      "abc is numeric False\n",
      "abc is alphabet True\n"
     ]
    }
   ],
   "source": [
    "x = 'abc'\n",
    "ret = x.isnumeric()\n",
    "ret2 = x.isalpha()\n",
    "print(f'{x} is numeric {ret}')\n",
    "print(f'{x} is alphabet {ret2}')"
   ]
  },
  {
   "cell_type": "code",
   "execution_count": 20,
   "metadata": {},
   "outputs": [
    {
     "name": "stdout",
     "output_type": "stream",
     "text": [
      "a,b,c\n",
      "a==b==c\n",
      "['a', '', 'b', '', 'c']\n"
     ]
    }
   ],
   "source": [
    "ret = ','.join(['a', 'b', 'c'])\n",
    "print(ret)\n",
    "ret = '=='.join(['a', 'b', 'c'])\n",
    "print(ret)"
   ]
  },
  {
   "cell_type": "code",
   "execution_count": 25,
   "metadata": {},
   "outputs": [
    {
     "name": "stdout",
     "output_type": "stream",
     "text": [
      "ret: a==b==c\n",
      "x: ['a', 'b', 'c']\n",
      "y: ['a', '', 'b', '', 'c']\n"
     ]
    }
   ],
   "source": [
    "ret = '=='.join(['a', 'b', 'c'])\n",
    "print(f'ret: {ret}')\n",
    "x = ret.split('==')\n",
    "print(f'x: {x}')\n",
    "y = ret.split('=')\n",
    "print(f'y: {y}')"
   ]
  },
  {
   "cell_type": "code",
   "execution_count": 28,
   "metadata": {},
   "outputs": [
    {
     "data": {
      "text/plain": [
       "'hello world'"
      ]
     },
     "execution_count": 28,
     "metadata": {},
     "output_type": "execute_result"
    }
   ],
   "source": [
    "# conda activate yolov10\n",
    "# pip install pyperclip\n",
    "import pyperclip\n",
    "\n",
    "pyperclip.copy('hello world')\n",
    "pyperclip.paste()"
   ]
  }
 ],
 "metadata": {
  "kernelspec": {
   "display_name": "yolov10",
   "language": "python",
   "name": "python3"
  },
  "language_info": {
   "codemirror_mode": {
    "name": "ipython",
    "version": 3
   },
   "file_extension": ".py",
   "mimetype": "text/x-python",
   "name": "python",
   "nbconvert_exporter": "python",
   "pygments_lexer": "ipython3",
   "version": "3.9.19"
  }
 },
 "nbformat": 4,
 "nbformat_minor": 2
}
