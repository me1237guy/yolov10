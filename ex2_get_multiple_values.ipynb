{
 "cells": [
  {
   "cell_type": "code",
   "execution_count": 1,
   "metadata": {},
   "outputs": [
    {
     "name": "stdout",
     "output_type": "stream",
     "text": [
      "size:fat, color:oragne, disposition:loud\n"
     ]
    }
   ],
   "source": [
    "cat = ['fat','oragne','loud']\n",
    "size, color, disposition = cat\n",
    "print(f'size:{size}, color:{color}, disposition:{disposition}')"
   ]
  },
  {
   "cell_type": "code",
   "execution_count": 2,
   "metadata": {},
   "outputs": [
    {
     "name": "stdout",
     "output_type": "stream",
     "text": [
      "size:fat\n",
      "color:oragne\n",
      "disposition:loud\n"
     ]
    }
   ],
   "source": [
    "property =['size', 'color', 'disposition']\n",
    "for item in zip(property, cat):\n",
    "    print(f'{item[0]}:{item[1]}')"
   ]
  },
  {
   "cell_type": "markdown",
   "metadata": {},
   "source": [
    "use index() method to search the value of a list"
   ]
  },
  {
   "cell_type": "code",
   "execution_count": 3,
   "metadata": {},
   "outputs": [
    {
     "name": "stdout",
     "output_type": "stream",
     "text": [
      "a:0, b:1, c:False\n"
     ]
    }
   ],
   "source": [
    "a = property.index('size')\n",
    "b = property.index('color')\n",
    "c = 'hello' in property\n",
    "print(f'a:{a}, b:{b}, c:{c}')\n"
   ]
  },
  {
   "cell_type": "markdown",
   "metadata": {},
   "source": [
    "use append() and remove() methods to add or remove a value into the list"
   ]
  },
  {
   "cell_type": "code",
   "execution_count": 4,
   "metadata": {},
   "outputs": [
    {
     "name": "stdout",
     "output_type": "stream",
     "text": [
      "cat: ['fat', 'oragne', 'loud', 'female'], property:['size', 'color', 'disposition', 'gender']\n",
      "cat: ['fat', 'oragne', 'loud'], property:['size', 'color', 'disposition']\n"
     ]
    }
   ],
   "source": [
    "cat.append('female')\n",
    "property.append('gender')\n",
    "print(f'cat: {cat}, property:{property}')\n",
    "cat.remove('female')\n",
    "property.remove('gender')\n",
    "print(f'cat: {cat}, property:{property}')"
   ]
  },
  {
   "cell_type": "markdown",
   "metadata": {},
   "source": [
    "use insert() to put a new value inside the list"
   ]
  },
  {
   "cell_type": "code",
   "execution_count": 5,
   "metadata": {},
   "outputs": [
    {
     "name": "stdout",
     "output_type": "stream",
     "text": [
      "cat: ['test', 'fat', 'oragne', 'loud'], property:['test', 'size', 'color', 'disposition']\n"
     ]
    }
   ],
   "source": [
    "cat.insert(0, 'test')\n",
    "property.insert(0, 'test')\n",
    "print(f'cat: {cat}, property:{property}')"
   ]
  },
  {
   "cell_type": "markdown",
   "metadata": {},
   "source": [
    "use sort() to rearrange the list values\n",
    "\n",
    "WRONG USE:\n",
    "x = values.sort()\n",
    "\n",
    "Sorting: values.sort() sorts the list values in place. \n",
    "The sort() method does not return a new list; it returns None. \n",
    "This means x will be assigned None."
   ]
  },
  {
   "cell_type": "code",
   "execution_count": 6,
   "metadata": {},
   "outputs": [
    {
     "name": "stdout",
     "output_type": "stream",
     "text": [
      "values:[-7, 1, 2, 3.14, 5], x:[-7, 1, 2, 3.14, 5]\n"
     ]
    }
   ],
   "source": [
    "values=[2, 5, 3.14, 1, -7]\n",
    "values.sort()\n",
    "x = values\n",
    "print(f'values:{values}, x:{x}')"
   ]
  },
  {
   "cell_type": "code",
   "execution_count": 9,
   "metadata": {},
   "outputs": [
    {
     "name": "stdout",
     "output_type": "stream",
     "text": [
      "x:[1, 2, 10]\n"
     ]
    }
   ],
   "source": [
    "x = [1]\n",
    "x.append(2)\n",
    "x.append(10)\n",
    "print(f'x:{x}')"
   ]
  },
  {
   "cell_type": "markdown",
   "metadata": {},
   "source": [
    "use del command to delete the item of a list"
   ]
  },
  {
   "cell_type": "code",
   "execution_count": 10,
   "metadata": {},
   "outputs": [
    {
     "name": "stdout",
     "output_type": "stream",
     "text": [
      "x:[1, 10]\n"
     ]
    }
   ],
   "source": [
    "del x[1]\n",
    "print(f'x:{x}')"
   ]
  },
  {
   "cell_type": "markdown",
   "metadata": {},
   "source": [
    "使用參考(reference)"
   ]
  },
  {
   "cell_type": "code",
   "execution_count": 11,
   "metadata": {},
   "outputs": [
    {
     "name": "stdout",
     "output_type": "stream",
     "text": [
      "x:[1, 2, 3] y:[1, 2, 3]\n",
      "x:[1, 5, 3] y:[1, 5, 3]\n"
     ]
    }
   ],
   "source": [
    "x = [1, 2, 3]\n",
    "y = x\n",
    "print(f'x:{x} y:{y}')\n",
    "y[1] = 5\n",
    "print(f'x:{x} y:{y}')"
   ]
  },
  {
   "cell_type": "markdown",
   "metadata": {},
   "source": [
    "複製另一份，並非使用參考(reference)\n",
    "copy.copy(VARIABLE)"
   ]
  },
  {
   "cell_type": "code",
   "execution_count": 12,
   "metadata": {},
   "outputs": [
    {
     "name": "stdout",
     "output_type": "stream",
     "text": [
      "x:[1, 2, 3] y:[1, 2, 3]\n",
      "x:[1, 2, 3] y:[1, 5, 3]\n"
     ]
    }
   ],
   "source": [
    "import copy\n",
    "x = [1, 2, 3]\n",
    "y = copy.copy(x)\n",
    "print(f'x:{x} y:{y}')\n",
    "y[1] = 5\n",
    "print(f'x:{x} y:{y}')"
   ]
  }
 ],
 "metadata": {
  "kernelspec": {
   "display_name": "yolov10",
   "language": "python",
   "name": "python3"
  },
  "language_info": {
   "codemirror_mode": {
    "name": "ipython",
    "version": 3
   },
   "file_extension": ".py",
   "mimetype": "text/x-python",
   "name": "python",
   "nbconvert_exporter": "python",
   "pygments_lexer": "ipython3",
   "version": "3.9.19"
  }
 },
 "nbformat": 4,
 "nbformat_minor": 2
}
